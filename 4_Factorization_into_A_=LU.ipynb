{
  "nbformat": 4,
  "nbformat_minor": 0,
  "metadata": {
    "colab": {
      "provenance": [],
      "authorship_tag": "ABX9TyND4Ggbht6DfQJOFRXRzVkc",
      "include_colab_link": true
    },
    "kernelspec": {
      "name": "python3",
      "display_name": "Python 3"
    },
    "language_info": {
      "name": "python"
    }
  },
  "cells": [
    {
      "cell_type": "markdown",
      "metadata": {
        "id": "view-in-github",
        "colab_type": "text"
      },
      "source": [
        "<a href=\"https://colab.research.google.com/github/hyeonji826/Linear-Algebra/blob/main/4_Factorization_into_A_%3DLU.ipynb\" target=\"_parent\"><img src=\"https://colab.research.google.com/assets/colab-badge.svg\" alt=\"Open In Colab\"/></a>"
      ]
    },
    {
      "cell_type": "markdown",
      "source": [
        "# Factorization into A = LU\n",
        "\n",
        "## 1. Introduction\n",
        "LU 분해(Factorization)는 정사각 행렬 `A` 를 두 개의 행렬 `L` (Lower triangular matrix)과 `U` (Upper triangular matrix)의 곱으로 표현하는 기법이다. 즉,\n",
        "\n",
        "```python\n",
        "A = LU\n",
        "```\n",
        "\n",
        "이 성립한다. 이를 활용하면 선형 방정식 풀이, 행렬식 계산, 역행렬 구하기 등의 연산을 효율적으로 수행할 수 있다.\n",
        "\n",
        "## 2. LU Factorization Process\n",
        "LU 분해 과정은 아래와 같다.\n",
        "\n",
        "1. **행렬 A를 설정한다.**\n",
        "\n",
        "```python\n",
        "import numpy as np\n",
        "\n",
        "A = np.array([[2, 3, 1],\n",
        "              [4, 7, 3],\n",
        "              [-2, 3, 4]])\n",
        "print(\"A =\\n\", A)\n",
        "```\n",
        "\n",
        "2. **행 연산을 통해 A를 삼각 행렬로 변환한다.**\n",
        "   - 첫 번째 열을 기준으로 가우스 소거법을 수행하여 `U` 행렬을 얻는다.\n",
        "   - 이때, 수행한 연산을 기록하여 `L` 행렬을 생성한다.\n",
        "\n",
        "3. **결과적으로 아래와 같은 형태의 LU 분해를 얻는다.**\n",
        "\n",
        "```python\n",
        "from scipy.linalg import lu\n",
        "\n",
        "P, L, U = lu(A)\n",
        "print(\"L =\\n\", L)\n",
        "print(\"U =\\n\", U)\n",
        "```\n",
        "\n",
        "이때, `L` 행렬은 단위 하삼각행렬(lower triangular matrix with ones on the diagonal), `U` 행렬은 상삼각행렬(upper triangular matrix)이다.\n",
        "\n",
        "## 3. Application of LU Factorization\n",
        "LU 분해는 다양한 응용이 가능하다.\n",
        "\n",
        "- **선형 방정식 풀이:**\n",
        "  - 주어진 방정식 `Ax = b` 에 대해, 먼저 `Ly = b` 를 풀고, 이후 `Ux = y` 를 푼다.\n",
        "\n",
        "```python\n",
        "b = np.array([5, 9, 4])\n",
        "y = np.linalg.solve(L, b)\n",
        "x = np.linalg.solve(U, y)\n",
        "print(\"Solution x =\", x)\n",
        "```\n",
        "\n",
        "- **행렬식 계산:**\n",
        "  - `A = LU` 일 때, `det(A) = det(L) * det(U)` 가 성립하며, `L` 의 대각 원소가 1이므로 `det(A) = det(U)` 로 쉽게 계산할 수 있다.\n",
        "\n",
        "```python\n",
        "det_A = np.linalg.det(U)\n",
        "print(\"det(A) =\", det_A)\n",
        "```\n",
        "\n",
        "- **역행렬 계산:**\n",
        "  - `A^{-1} = U^{-1} * L^{-1}` 를 이용하여 역행렬을 구할 수 있다.\n",
        "\n",
        "```python\n",
        "A_inv = np.linalg.inv(U) @ np.linalg.inv(L)\n",
        "print(\"A_inv =\\n\", A_inv)\n",
        "```\n",
        "\n",
        "## 4. Summary\n",
        "LU 분해는 정사각 행렬을 하삼각행렬과 상삼각행렬의 곱으로 분해하는 기법으로, 선형 시스템 해법, 행렬식 계산, 역행렬 구하기 등 다양한 응용이 가능하다. 특히 계산을 효율적으로 수행할 수 있어 수치해석에서 중요한 개념이다.\n"
      ],
      "metadata": {
        "id": "tvyKFuKZtI_e"
      }
    },
    {
      "cell_type": "code",
      "execution_count": 2,
      "metadata": {
        "id": "l9Q4whJHsuD9"
      },
      "outputs": [],
      "source": [
        "# LU 분해 및 시각화 실습\n",
        "import numpy as np\n",
        "import matplotlib.pyplot as plt\n",
        "import seaborn as sns\n",
        "from scipy.linalg import lu\n",
        "\n"
      ]
    },
    {
      "cell_type": "code",
      "source": [
        "# 1. 행렬 A 설정\n",
        "A = np.array([[2,3,1],\n",
        "              [4,7,3],\n",
        "              [-2,3,4]])\n",
        "print(\"Matrix A:\\n\",A)\n",
        "\n",
        "# 2. LU 분해 수행\n",
        "# P : Permutation , L : Lower Triangular , U : Upper Triangular\n",
        "P, L ,U = lu(A)\n",
        "print(\"\\nLower Triangular Matrix L:\\n\",L)\n",
        "print(\"\\nUpper Triangular Matrix L:\\n\",U)\n",
        "print(\"\\nPermutation Matrix L:\\n\",P)\n",
        "\n",
        "# 3. 행렬 시각화 함수\n",
        "def plot_matrix(matrix,title):\n",
        "    plt.figure(figsize=(4,4))\n",
        "    sns.heatmap(matrix, annot=True,cmap='coolwarm',cbar=False,linewidths=1)\n",
        "    plt.title(title)\n",
        "    plt.show()\n"
      ],
      "metadata": {
        "colab": {
          "base_uri": "https://localhost:8080/"
        },
        "id": "AowImfHbuPXW",
        "outputId": "1816f07f-6815-44a2-d04e-a0a90aaeca81"
      },
      "execution_count": 5,
      "outputs": [
        {
          "output_type": "stream",
          "name": "stdout",
          "text": [
            "Matrix A:\n",
            " [[ 2  3  1]\n",
            " [ 4  7  3]\n",
            " [-2  3  4]]\n",
            "\n",
            "Lower Triangular Matrix L:\n",
            " [[ 1.          0.          0.        ]\n",
            " [-0.5         1.          0.        ]\n",
            " [ 0.5        -0.07692308  1.        ]]\n",
            "\n",
            "Upper Triangular Matrix L:\n",
            " [[ 4.          7.          3.        ]\n",
            " [ 0.          6.5         5.5       ]\n",
            " [ 0.          0.         -0.07692308]]\n",
            "\n",
            "Permutation Matrix L:\n",
            " [[0. 0. 1.]\n",
            " [1. 0. 0.]\n",
            " [0. 1. 0.]]\n"
          ]
        }
      ]
    },
    {
      "cell_type": "code",
      "source": [
        "# 4. LU 분해 및 P 행렬 시각화\n",
        "plot_matrix(A,\"Matrix A\")\n",
        "plot_matrix(L,\"Lower Triangular Matrix L\")\n",
        "plot_matrix(U,\"Upper Triangular Matrix U\")\n",
        "plot_matrix(P,\"Permutation Matrix P\")\n",
        "\n",
        "# 5. LU 분해 활용 예제\n",
        "b = np.array([5,9,4])\n",
        "\n",
        "# Ly = pb 풀이\n",
        "y = np.linalg.solve(L,P@b)\n",
        "# Ux = y 풀이\n",
        "x = np.linalg.solve(U,y)\n",
        "\n",
        "print(\"\\nSolution x:\",x)\n",
        "\n"
      ],
      "metadata": {
        "colab": {
          "base_uri": "https://localhost:8080/",
          "height": 1000
        },
        "id": "4fQ85yV6viHA",
        "outputId": "24e405d0-cf0d-4d78-ab41-452d1c6fcb02"
      },
      "execution_count": 7,
      "outputs": [
        {
          "output_type": "display_data",
          "data": {
            "text/plain": [
              "<Figure size 400x400 with 1 Axes>"
            ],
            "image/png": "[encoded data removed]"
          },
          "metadata": {}
        },
        {
          "output_type": "display_data",
          "data": {
            "text/plain": [
              "<Figure size 400x400 with 1 Axes>"
            ],
            "image/png": "[encoded data removed]"
          },
          "metadata": {}
        },
        {
          "output_type": "display_data",
          "data": {
            "text/plain": [
              "<Figure size 400x400 with 1 Axes>"
            ],
            "image/png": "[encoded data removed]"
          },
          "metadata": {}
        },
        {
          "output_type": "display_data",
          "data": {
            "text/plain": [
              "<Figure size 400x400 with 1 Axes>"
            ],
            "image/png": "[encoded data removed]"
          },
          "metadata": {}
        },
        {
          "output_type": "stream",
          "name": "stdout",
          "text": [
            "\n",
            "Solution x: [-72.5  84.  -98. ]\n"
          ]
        }
      ]
    },
    {
      "cell_type": "code",
      "source": [
        "# 행렬식 계산\n",
        "# det(A) = det(U)\n",
        "det_A = np.linalg.det(U)\n",
        "print(\"\\ndet(A)=\",det_A)\n",
        "\n",
        "# 역행렬 계산\n",
        "A_inv = np.linalg.inv(U) @ np.linalg.inv(L)\n",
        "print(\"\\nInverse of A:\\n\",A_inv)"
      ],
      "metadata": {
        "colab": {
          "base_uri": "https://localhost:8080/"
        },
        "id": "L_9KeOiRwOUQ",
        "outputId": "a322e29e-22e8-4117-f892-fbdaf680c507"
      },
      "execution_count": 10,
      "outputs": [
        {
          "output_type": "stream",
          "name": "stdout",
          "text": [
            "\n",
            "det(A)= -1.9999999999999984\n",
            "\n",
            "Inverse of A:\n",
            " [[  4.5  -1.   -9.5]\n",
            " [ -5.    1.   11. ]\n",
            " [  6.   -1.  -13. ]]\n"
          ]
        }
      ]
    }
  ]
}