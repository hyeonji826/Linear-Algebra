{
  "nbformat": 4,
  "nbformat_minor": 0,
  "metadata": {
    "colab": {
      "provenance": []
    },
    "kernelspec": {
      "name": "python3",
      "display_name": "Python 3"
    },
    "language_info": {
      "name": "python"
    }
  },
  "cells": [
    {
      "cell_type": "markdown",
      "source": [
        "## Ax=0의 해(Null space) 계산 및 RREF 정리\n",
        "### 1. Ax=0의 해(Null space)계산\n",
        "- 대상행렬 : 강의에 나온 행렬 사용\n",
        "- **가우스 소거법 적용(제거, Elimination)**\n",
        "- Pivot & Free Variable\n",
        "- 특수해(Special Solution)\n",
        "    - 각 free 변수에 임의의 값을 부여하여 특수해를 구하고, 이들 특수해들의 선형 결합으로 전체 Null space를 표현\n",
        "- 중요!!\n",
        "    - 소거 과정에서 A의 column space는 변경될 수 있으나, **Ax = 0의 해(Null space)는 변하지 않음.**\n",
        "\n",
        "\n",
        "### 2. 기약행 사다리꼴 행렬(RREF)\n",
        "- 목적 : U행렬을 간소화하여 해를 명확히 구분할 수 있도록 **RREF(R 행렬)로 변환**\n",
        "- RREF's condition\n",
        "    - 1. 각 pivot원소는 **1**이어야한다.\n",
        "    - 2. 각 pivot이 위치한 열에서 다른 모든 원소는 0이어야 한다.\n",
        "    - 3. 각 행은 처음 나오는 pivot 전까지 모든 원소가 0 이어야 하며, 0만 있는 행은 pivot행 아래에 위치해야 한다.\n",
        "\n",
        "- Result\n",
        "    - **A -> U -> R / Ax=0, Ux=0, Rx=0의 해는 동일함.**"
      ],
      "metadata": {
        "id": "v0DuT2phKs6G"
      }
    },
    {
      "cell_type": "code",
      "source": [
        "# 필요한 라이브러리\n",
        "# sympy\n",
        "# 수학적 표현을 기호(symbol)로 다루어 대수, 미적분, 선형대수 등 수학문제를 심볼릭으로 해결할 수 있도록 지원함\n",
        "\n",
        "import sympy as sp\n",
        "\n",
        "# 심볼 초기화\n",
        "sp.init_printing()\n",
        "\n",
        "# 3x4 행렬 A 정의\n",
        "A =sp.Matrix([\n",
        "    [1,2,2,2],\n",
        "    [2,4,6,8],\n",
        "    [3,6,8,10]\n",
        "])\n",
        "print(\"Matrix A :\")\n",
        "sp.pprint(A)\n",
        "\n",
        "# A의 기약행 사다리꼴(RREF)\n",
        "R, pivots = A.rref()\n",
        "print(\"\\n RREF of Matrix A :\")\n",
        "# sp.pprint() --> pretty printing 함수 = 읽기 쉬운 형태로 변환하여 출력\n",
        "sp.pprint(R)\n",
        "print(\"\\nPivot이 위치한 column Index :\",pivots)\n",
        "\n",
        "# Ax=0의 해(Null space) 구하기\n",
        "null_space = A.nullspace()\n",
        "print(\"\\nbasis of Null space of A:\")\n",
        "for vec in null_space:\n",
        "    sp.pprint(vec)\n",
        "\n",
        "# Av = 0 검증\n",
        "# 왜? Null space에 속해있는지 확인하기 위해서\n",
        "print(\"\\nIt is Av = 0 ?\")\n",
        "for vec in null_space:\n",
        "    result = A*vec\n",
        "    sp.pprint(result)\n",
        "\n",
        "\n",
        "\n",
        "\n"
      ],
      "metadata": {
        "colab": {
          "base_uri": "https://localhost:8080/"
        },
        "id": "BIVkuDxBH84p",
        "outputId": "1f524df0-a75b-4901-cddc-64e08101b472"
      },
      "execution_count": null,
      "outputs": [
        {
          "output_type": "stream",
          "name": "stdout",
          "text": [
            "Matrix A :\n",
            "⎡1  2  2  2 ⎤\n",
            "⎢           ⎥\n",
            "⎢2  4  6  8 ⎥\n",
            "⎢           ⎥\n",
            "⎣3  6  8  10⎦\n",
            "\n",
            " RREF of Matrix A :\n",
            "⎡1  2  0  -2⎤\n",
            "⎢           ⎥\n",
            "⎢0  0  1  2 ⎥\n",
            "⎢           ⎥\n",
            "⎣0  0  0  0 ⎦\n",
            "\n",
            "Pivot이 위치한 column Index : (0, 2)\n",
            "\n",
            "basis of Null space of A:\n",
            "⎡-2⎤\n",
            "⎢  ⎥\n",
            "⎢1 ⎥\n",
            "⎢  ⎥\n",
            "⎢0 ⎥\n",
            "⎢  ⎥\n",
            "⎣0 ⎦\n",
            "⎡2 ⎤\n",
            "⎢  ⎥\n",
            "⎢0 ⎥\n",
            "⎢  ⎥\n",
            "⎢-2⎥\n",
            "⎢  ⎥\n",
            "⎣1 ⎦\n",
            "\n",
            "It is Av = 0 ?\n",
            "⎡0⎤\n",
            "⎢ ⎥\n",
            "⎢0⎥\n",
            "⎢ ⎥\n",
            "⎣0⎦\n",
            "⎡0⎤\n",
            "⎢ ⎥\n",
            "⎢0⎥\n",
            "⎢ ⎥\n",
            "⎣0⎦\n"
          ]
        }
      ]
    }
  ]
}