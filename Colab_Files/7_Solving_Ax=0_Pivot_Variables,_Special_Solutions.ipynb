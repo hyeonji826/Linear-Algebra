{
  "nbformat": 4,
  "nbformat_minor": 0,
  "metadata": {
    "colab": {
      "provenance": []
    },
    "kernelspec": {
      "name": "python3",
      "display_name": "Python 3"
    },
    "language_info": {
      "name": "python"
    }
  },
  "cells": [
    {
      "cell_type": "code",
      "source": [
        "# 필요한 라이브러리\n",
        "# sympy\n",
        "# 수학적 표현을 기호(symbol)로 다루어 대수, 미적분, 선형대수 등 수학문제를 심볼릭으로 해결할 수 있도록 지원함\n",
        "\n",
        "import sympy as sp\n",
        "\n",
        "# 심볼 초기화\n",
        "sp.init_printing()\n",
        "\n",
        "# 3x4 행렬 A 정의\n",
        "A =sp.Matrix([\n",
        "    [1,2,2,2],\n",
        "    [2,4,6,8],\n",
        "    [3,6,8,10]\n",
        "])\n",
        "print(\"Matrix A :\")\n",
        "sp.pprint(A)\n",
        "\n",
        "# A의 기약행 사다리꼴(RREF)\n",
        "R, pivots = A.rref()\n",
        "print(\"\\n RREF of Matrix A :\")\n",
        "# sp.pprint() --> pretty printing 함수 = 읽기 쉬운 형태로 변환하여 출력\n",
        "sp.pprint(R)\n",
        "print(\"\\nPivot이 위치한 column Index :\",pivots)\n",
        "\n",
        "# Ax=0의 해(Null space) 구하기\n",
        "null_space = A.nullspace()\n",
        "print(\"\\nbasis of Null space of A:\")\n",
        "for vec in null_space:\n",
        "    sp.pprint(vec)\n",
        "\n",
        "# Av = 0 검증\n",
        "# 왜? Null space에 속해있는지 확인하기 위해서\n",
        "print(\"\\nIt is Av = 0 ?\")\n",
        "for vec in null_space:\n",
        "    result = A*vec\n",
        "    sp.pprint(result)\n",
        "\n",
        "\n",
        "\n",
        "\n"
      ],
      "metadata": {
        "colab": {
          "base_uri": "https://localhost:8080/"
        },
        "id": "BIVkuDxBH84p",
        "outputId": "1f524df0-a75b-4901-cddc-64e08101b472"
      },
      "execution_count": 2,
      "outputs": [
        {
          "output_type": "stream",
          "name": "stdout",
          "text": [
            "Matrix A :\n",
            "⎡1  2  2  2 ⎤\n",
            "⎢           ⎥\n",
            "⎢2  4  6  8 ⎥\n",
            "⎢           ⎥\n",
            "⎣3  6  8  10⎦\n",
            "\n",
            " RREF of Matrix A :\n",
            "⎡1  2  0  -2⎤\n",
            "⎢           ⎥\n",
            "⎢0  0  1  2 ⎥\n",
            "⎢           ⎥\n",
            "⎣0  0  0  0 ⎦\n",
            "\n",
            "Pivot이 위치한 column Index : (0, 2)\n",
            "\n",
            "basis of Null space of A:\n",
            "⎡-2⎤\n",
            "⎢  ⎥\n",
            "⎢1 ⎥\n",
            "⎢  ⎥\n",
            "⎢0 ⎥\n",
            "⎢  ⎥\n",
            "⎣0 ⎦\n",
            "⎡2 ⎤\n",
            "⎢  ⎥\n",
            "⎢0 ⎥\n",
            "⎢  ⎥\n",
            "⎢-2⎥\n",
            "⎢  ⎥\n",
            "⎣1 ⎦\n",
            "\n",
            "It is Av = 0 ?\n",
            "⎡0⎤\n",
            "⎢ ⎥\n",
            "⎢0⎥\n",
            "⎢ ⎥\n",
            "⎣0⎦\n",
            "⎡0⎤\n",
            "⎢ ⎥\n",
            "⎢0⎥\n",
            "⎢ ⎥\n",
            "⎣0⎦\n"
          ]
        }
      ]
    }
  ]
}