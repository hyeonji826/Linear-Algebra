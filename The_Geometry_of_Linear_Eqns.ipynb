{
  "nbformat": 4,
  "nbformat_minor": 0,
  "metadata": {
    "colab": {
      "provenance": [],
      "authorship_tag": "ABX9TyN598KAyavFK9SlGuU1/BAW",
      "include_colab_link": true
    },
    "kernelspec": {
      "name": "python3",
      "display_name": "Python 3"
    },
    "language_info": {
      "name": "python"
    }
  },
  "cells": [
    {
      "cell_type": "markdown",
      "metadata": {
        "id": "view-in-github",
        "colab_type": "text"
      },
      "source": [
        "<a href=\"https://colab.research.google.com/github/hyeonji826/Linear-Algebra/blob/main/The_Geometry_of_Linear_Eqns.ipynb\" target=\"_parent\"><img src=\"https://colab.research.google.com/assets/colab-badge.svg\" alt=\"Open In Colab\"/></a>"
      ]
    },
    {
      "cell_type": "markdown",
      "source": [
        "## 1. Numpy로 행렬 생성하기\n",
        "```r\n",
        "import numpy as np\n",
        "matrix=np.array([[1,2,3],[4,5,6]])\n",
        "print(matrix)\n",
        "```\n",
        "\n",
        "### 1.1 행렬 작성\n",
        "```r\n",
        "A = np.array([[2, -1], [-1, 2]])\n",
        "B = np.array([0, 3])\n",
        "x = np.linalg.solve(A,B)\n",
        "print(x)\n",
        "```"
      ],
      "metadata": {
        "id": "JbFNl1kZXYMx"
      }
    },
    {
      "cell_type": "code",
      "source": [
        "import numpy as np\n",
        "\n",
        "# 계수 행렬 A\n",
        "A = np.array([[2, -1], [-1, 2]])\n",
        "\n",
        "# 상수 벡터 B\n",
        "B = np.array([0, 3])\n",
        "\n",
        "# 계수 행렬 A와 상수 벡터 B 한 줄에 출력\n",
        "print(f\"계수 행렬 A:\\n{A}\\n\\n상수 벡터 B:\\n{B}\")"
      ],
      "metadata": {
        "colab": {
          "base_uri": "https://localhost:8080/"
        },
        "collapsed": true,
        "id": "g-vhnELdYaLq",
        "outputId": "41ca6e98-920a-4a0e-fa89-5d81491641d2"
      },
      "execution_count": 8,
      "outputs": [
        {
          "output_type": "stream",
          "name": "stdout",
          "text": [
            "계수 행렬 A:\n",
            "[[ 2 -1]\n",
            " [-1  2]]\n",
            "\n",
            "상수 벡터 B:\n",
            "[0 3]\n"
          ]
        }
      ]
    },
    {
      "cell_type": "markdown",
      "source": [
        "## 2. 행렬 덧셈\n",
        "- 행렬 덧셈은 np.add를 사용합니다.\n",
        "```r\n",
        "matrix1 = np.array([[1, 2], [3, 4]])\n",
        "matrix2 = np.array([[5, 6], [7, 8]])\n",
        "result = np.add(matrix1,matrix2)\n",
        "print(result)\n",
        "```"
      ],
      "metadata": {
        "id": "dsj54CxoYvxU"
      }
    },
    {
      "cell_type": "markdown",
      "source": [
        "## 3. 행렬 곱셈\n",
        "- 행렬 곱셈은 @ 연산자나 np.dot함수를 사용한다.\n",
        "\n",
        "```r\n",
        "matrix1 = np.array([[1,2],[3,4]])\n",
        "matrix2 = np.array([[5,6],[7,8]])\n",
        "\n",
        "result = np.dot(matrix1,matrix2)\n",
        "print(result)\n",
        "```"
      ],
      "metadata": {
        "id": "iBg2-UTNXvvB"
      }
    },
    {
      "cell_type": "markdown",
      "source": [
        "## 4. 행렬의 전치\n",
        "- 행렬의 전치는 .T속성을 사용하여 쉽게 구할 수 있다.\n",
        "\n",
        "```r\n",
        "matrix =np.array([[1,2],[3,4]])\n",
        "transpose_matrix = matrix.T\n",
        "print(transpose_matrix)\n",
        "```"
      ],
      "metadata": {
        "id": "eXdWZ_YrZWAV"
      }
    },
    {
      "cell_type": "markdown",
      "source": [],
      "metadata": {
        "id": "VzTND-oVZE3g"
      }
    },
    {
      "cell_type": "markdown",
      "source": [
        "## 5. 행렬의 역행렬\n",
        "- np.linalg.inv() 함수를 사용한다.\n",
        "- 이때, 행렬이 정칙 행렬일 때만 역행렬이 존재함에 유의한다.\n",
        "\n",
        "```r\n",
        "matrix = np.array([[1,2],[3,4]])\n",
        "inverse_matrix = np.linalg.inv(matrix)\n",
        "print(inverse_martix)\n",
        "```"
      ],
      "metadata": {
        "id": "R2TgIj-oZq7D"
      }
    },
    {
      "cell_type": "markdown",
      "source": [
        "## 6. 행렬 크기 확인하기\n",
        "- 행렬의 크기를 알고 싶다면 .shape 속성을 사용한다.\n",
        "\n",
        "```r\n",
        "print(matrix.shape) # 행렬의 크기(행,열) 출력\n",
        "```"
      ],
      "metadata": {
        "id": "mTQ8LhJ3aGNb"
      }
    }
  ]
}